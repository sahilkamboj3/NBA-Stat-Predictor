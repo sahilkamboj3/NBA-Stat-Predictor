{
 "cells": [
  {
   "cell_type": "markdown",
   "metadata": {},
   "source": [
    "<h2>Imports</h2>"
   ]
  },
  {
   "cell_type": "code",
   "execution_count": 2,
   "metadata": {},
   "outputs": [],
   "source": [
    "from sklearn.linear_model import LinearRegression\n",
    "from sklearn.linear_model import LogisticRegression\n",
    "from sklearn.model_selection import train_test_split\n",
    "from sklearn.metrics import mean_squared_error\n",
    "from sklearn.tree import DecisionTreeRegressor\n",
    "from sklearn.preprocessing import PolynomialFeatures\n",
    "from math import sqrt\n",
    "import pandas as pd\n",
    "import numpy as np\n",
    "import matplotlib.pyplot as plt\n",
    "import os"
   ]
  },
  {
   "cell_type": "markdown",
   "metadata": {},
   "source": [
    "<h2>Modeling</h2>"
   ]
  },
  {
   "cell_type": "markdown",
   "metadata": {},
   "source": [
    "<h3>Predicting Pts Based Off Other Stats</h3>"
   ]
  },
  {
   "cell_type": "code",
   "execution_count": 3,
   "metadata": {},
   "outputs": [],
   "source": [
    "players = pd.DataFrame()\n",
    "player_pickles = os.listdir('player_stats')\n",
    "for player_pickle in player_pickles:\n",
    "    try:\n",
    "        player = pd.read_pickle('player_stats/'+player_pickle)\n",
    "        players = players.append(player)\n",
    "    except:\n",
    "        continue\n",
    "# player.drop_duplicates(inplace=True)\n",
    "players = players.reset_index()\n",
    "players.dropna(inplace=True)\n",
    "pts_target = ['PTS']\n",
    "pts_features = ['Age','FGA','FG%','FTA','FT%','TRB','AST']\n",
    "# print(players)\n",
    "pts_X = players[pts_features]\n",
    "pts_Y = players[pts_target]\n",
    "\n",
    "# print(pts_X, '\\n\\n', pts_Y)\n",
    "# print(pts_X)"
   ]
  },
  {
   "cell_type": "code",
   "execution_count": 4,
   "metadata": {},
   "outputs": [],
   "source": [
    "# pts_X_train, pts_X_test, pts_Y_train, pts_Y_test = train_test_split(pts_X, pts_Y, test_size=(0.33), shuffle=False,random_state = 314)\n",
    "pts_X_train, pts_X_test, pts_Y_train, pts_Y_test = train_test_split(pts_X, pts_Y, test_size=(0.33), shuffle=False,random_state = 434)\n"
   ]
  },
  {
   "cell_type": "code",
   "execution_count": 5,
   "metadata": {},
   "outputs": [
    {
     "data": {
      "text/plain": [
       "LinearRegression(copy_X=True, fit_intercept=True, n_jobs=None, normalize=False)"
      ]
     },
     "execution_count": 5,
     "metadata": {},
     "output_type": "execute_result"
    }
   ],
   "source": [
    "pts_linear = LinearRegression()\n",
    "# pts_linear = DecisionTreeRegressor(max_depth=9)\n",
    "# pts_linear = LogisticRegression()\n",
    "pts_linear.fit(pts_X_train, pts_Y_train)"
   ]
  },
  {
   "cell_type": "code",
   "execution_count": 6,
   "metadata": {},
   "outputs": [],
   "source": [
    "mj = pd.read_pickle('player_stats/michael_jordan.pickle')\n",
    "mj.reset_index(inplace=True)\n",
    "pts_prediction = pts_linear.predict(pts_X_test)"
   ]
  },
  {
   "cell_type": "code",
   "execution_count": 7,
   "metadata": {},
   "outputs": [
    {
     "name": "stdout",
     "output_type": "stream",
     "text": [
      "0.8362467798408505\n"
     ]
    }
   ],
   "source": [
    "print(sqrt(mean_squared_error(y_true=pts_prediction, y_pred=pts_Y_test)))\n"
   ]
  },
  {
   "cell_type": "markdown",
   "metadata": {},
   "source": [
    "<h3>Predicting Stats of Next Year</h3>"
   ]
  },
  {
   "cell_type": "code",
   "execution_count": null,
   "metadata": {},
   "outputs": [],
   "source": [
    "all_stats = pd.DataFrame()\n",
    "years_to_predict = 1\n",
    "for player_pickle in player_pickles:\n",
    "    try:\n",
    "        player_stat = pd.read_pickle('player_stats'+player_pickle)\n",
    "        player_stats[str(years_to_predict)+'-Year-PTS'] = player_stats['PTS'].shift(-years_to_predict)\n",
    "        \n",
    "    except:\n",
    "        continue\n",
    "    \n",
    "    "
   ]
  },
  {
   "cell_type": "code",
   "execution_count": 10,
   "metadata": {},
   "outputs": [
    {
     "name": "stdout",
     "output_type": "stream",
     "text": [
      "Age\n",
      "21    10.0\n",
      "27     4.1\n",
      "29     2.3\n",
      "22     3.7\n",
      "24     7.2\n",
      "Name: 1-Year-Pts, dtype: float64\n"
     ]
    }
   ],
   "source": [
    "goal_col = str(years_to_predict)+'-Year-Pts'\n",
    "player_features, player_future_pts = all_stats.iloc[:,:-1], all_stats.iloc[:,-1]\n",
    "print(player_future_pts.head())\n"
   ]
  },
  {
   "cell_type": "code",
   "execution_count": null,
   "metadata": {},
   "outputs": [],
   "source": []
  }
 ],
 "metadata": {
  "kernelspec": {
   "display_name": "Python 3",
   "language": "python",
   "name": "python3"
  },
  "language_info": {
   "codemirror_mode": {
    "name": "ipython",
    "version": 3
   },
   "file_extension": ".py",
   "mimetype": "text/x-python",
   "name": "python",
   "nbconvert_exporter": "python",
   "pygments_lexer": "ipython3",
   "version": "3.7.3"
  }
 },
 "nbformat": 4,
 "nbformat_minor": 2
}
