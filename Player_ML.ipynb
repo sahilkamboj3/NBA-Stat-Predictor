{
 "cells": [
  {
   "cell_type": "markdown",
   "metadata": {},
   "source": [
    "<h2>Imports</h2>"
   ]
  },
  {
   "cell_type": "code",
   "execution_count": 2,
   "metadata": {},
   "outputs": [],
   "source": [
    "from sklearn.linear_model import LinearRegression\n",
    "from sklearn.linear_model import LogisticRegression\n",
    "from sklearn.model_selection import train_test_split\n",
    "from sklearn.metrics import mean_squared_error\n",
    "from sklearn.tree import DecisionTreeRegressor\n",
    "from sklearn.preprocessing import PolynomialFeatures\n",
    "from math import sqrt\n",
    "import pandas as pd\n",
    "import numpy as np\n",
    "import matplotlib.pyplot as plt\n",
    "import os"
   ]
  },
  {
   "cell_type": "markdown",
   "metadata": {},
   "source": [
    "<h2>Modeling</h2>"
   ]
  },
  {
   "cell_type": "markdown",
   "metadata": {},
   "source": [
    "<h3>Predicting Pts Based Off Other Stats</h3>"
   ]
  },
  {
   "cell_type": "code",
   "execution_count": 3,
   "metadata": {},
   "outputs": [],
   "source": [
    "players = pd.DataFrame()\n",
    "player_pickles = os.listdir('player_stats')\n",
    "for player_pickle in player_pickles:\n",
    "    try:\n",
    "        player = pd.read_pickle('player_stats/'+player_pickle)\n",
    "        players = players.append(player)\n",
    "    except:\n",
    "        continue\n",
    "# player.drop_duplicates(inplace=True)\n",
    "players = players.reset_index()\n",
    "players.dropna(inplace=True)\n",
    "pts_target = ['PTS']\n",
    "pts_features = ['Age','FGA','FG%','FTA','FT%','TRB','AST']\n",
    "# print(players)\n",
    "pts_X = players[pts_features]\n",
    "pts_Y = players[pts_target]\n",
    "\n",
    "# print(pts_X, '\\n\\n', pts_Y)\n",
    "# print(pts_X)"
   ]
  },
  {
   "cell_type": "code",
   "execution_count": 4,
   "metadata": {},
   "outputs": [],
   "source": [
    "# pts_X_train, pts_X_test, pts_Y_train, pts_Y_test = train_test_split(pts_X, pts_Y, test_size=(0.33), shuffle=False,random_state = 314)\n",
    "pts_X_train, pts_X_test, pts_Y_train, pts_Y_test = train_test_split(pts_X, pts_Y, test_size=(0.33), shuffle=False,random_state = 434)\n"
   ]
  },
  {
   "cell_type": "code",
   "execution_count": 5,
   "metadata": {},
   "outputs": [
    {
     "data": {
      "text/plain": [
       "LinearRegression(copy_X=True, fit_intercept=True, n_jobs=None, normalize=False)"
      ]
     },
     "execution_count": 5,
     "metadata": {},
     "output_type": "execute_result"
    }
   ],
   "source": [
    "pts_linear = LinearRegression()\n",
    "# pts_linear = DecisionTreeRegressor(max_depth=9)\n",
    "# pts_linear = LogisticRegression()\n",
    "pts_linear.fit(pts_X_train, pts_Y_train)"
   ]
  },
  {
   "cell_type": "code",
   "execution_count": 6,
   "metadata": {},
   "outputs": [],
   "source": [
    "mj = pd.read_pickle('player_stats/michael_jordan.pickle')\n",
    "mj.reset_index(inplace=True)\n",
    "pts_prediction = pts_linear.predict(pts_X_test)"
   ]
  },
  {
   "cell_type": "code",
   "execution_count": 7,
   "metadata": {},
   "outputs": [
    {
     "name": "stdout",
     "output_type": "stream",
     "text": [
      "0.8362467798408505\n"
     ]
    }
   ],
   "source": [
    "print(sqrt(mean_squared_error(y_true=pts_prediction, y_pred=pts_Y_test)))\n"
   ]
  },
  {
   "cell_type": "markdown",
   "metadata": {},
   "source": [
    "<h3>Predicting Stats of Next Year</h3>"
   ]
  },
  {
   "cell_type": "code",
   "execution_count": 27,
   "metadata": {},
   "outputs": [
    {
     "name": "stdout",
     "output_type": "stream",
     "text": [
      "empty\n",
      ".DS_Store\n",
      "17236\n",
      "        G  FGA   FG%  FTA   FT%  TRB  AST   PTS  1-Year-PTS\n",
      "Age                                                        \n",
      "25   48.0  4.6  49.1  1.5  55.6  5.0  0.8   5.3       6.800\n",
      "26   72.0  5.6  55.1  1.1  61.8  5.3  0.9   6.8       7.200\n",
      "27   79.0  5.9  48.7  1.9  58.1  5.0  1.1   7.2       5.900\n",
      "28   79.0  4.9  49.0  1.3  67.0  5.7  1.1   5.9      10.000\n",
      "29   71.0  8.3  51.6  1.5  67.3  8.0  1.9  10.0       6.625\n"
     ]
    }
   ],
   "source": [
    "all_stats = pd.DataFrame()\n",
    "years_to_predict = 1\n",
    "for player_pickle in player_pickles:\n",
    "    try:\n",
    "        player_stat = pd.read_pickle('player_stats/'+player_pickle)\n",
    "        player_stat[str(years_to_predict)+'-Year-PTS'] = player_stat['PTS'].shift(-years_to_predict)\n",
    "        if all_stats.empty:\n",
    "            all_stats = player_stat\n",
    "            print('empty')\n",
    "        else:\n",
    "            all_stats = all_stats.append(player_stat)\n",
    "    except:\n",
    "        print(player_pickle)\n",
    "all_stats.dropna(inplace=True)\n",
    "print(len(all_stats))\n",
    "print(all_stats.tail())\n",
    "    \n",
    "    "
   ]
  },
  {
   "cell_type": "code",
   "execution_count": 28,
   "metadata": {},
   "outputs": [
    {
     "name": "stdout",
     "output_type": "stream",
     "text": [
      "             G        FGA        FG%       FTA        FT%  TRB       AST  \\\n",
      "Age                                                                        \n",
      "21   46.666667   9.633333  32.466667  3.433333  61.333333  8.6  1.333333   \n",
      "27   44.000000  10.033333  26.666667  4.200000  69.133333  3.7  2.500000   \n",
      "29   66.000000   4.800000  28.300000  1.800000  75.600000  3.7  1.500000   \n",
      "22   13.000000   3.800000  46.900000  0.800000  70.000000  0.5  1.400000   \n",
      "24   35.000000   3.800000  37.300000  0.800000  75.000000  0.6  2.100000   \n",
      "\n",
      "          PTS  \n",
      "Age            \n",
      "21   8.666667  \n",
      "27   8.300000  \n",
      "29   4.100000  \n",
      "22   5.000000  \n",
      "24   3.700000   Age\n",
      "21    10.0\n",
      "27     4.1\n",
      "29     2.3\n",
      "22     3.7\n",
      "24     7.2\n",
      "Name: 1-Year-PTS, dtype: float64\n"
     ]
    }
   ],
   "source": [
    "goal_col = str(years_to_predict)+'-Year-Pts'\n",
    "player_features, player_future_pts = all_stats.iloc[:,:-1], all_stats.iloc[:,-1]\n",
    "print(player_features.head(),player_future_pts.head())\n"
   ]
  },
  {
   "cell_type": "code",
   "execution_count": 44,
   "metadata": {},
   "outputs": [],
   "source": [
    "x_train, x_test, Y_train, Y_test = train_test_split(player_features,player_future_pts,test_size=0.10)\n"
   ]
  },
  {
   "cell_type": "code",
   "execution_count": 45,
   "metadata": {},
   "outputs": [],
   "source": [
    "predictor = LinearRegression(n_jobs=-1)\n",
    "predictor.fit(x_train, Y_train)\n",
    "accuracy = predictor.score(x_test,Y_test)"
   ]
  },
  {
   "cell_type": "code",
   "execution_count": 46,
   "metadata": {},
   "outputs": [
    {
     "name": "stdout",
     "output_type": "stream",
     "text": [
      "0.7049872129463466\n"
     ]
    }
   ],
   "source": [
    "print(accuracy)"
   ]
  },
  {
   "cell_type": "markdown",
   "metadata": {},
   "source": [
    "<h5>Test</h5>"
   ]
  },
  {
   "cell_type": "code",
   "execution_count": 55,
   "metadata": {},
   "outputs": [
    {
     "name": "stdout",
     "output_type": "stream",
     "text": [
      "[[15.87575067]\n",
      " [16.96275019]\n",
      " [13.30083732]\n",
      " [20.67547963]\n",
      " [21.79221424]\n",
      " [21.69533644]\n",
      " [27.3028417 ]\n",
      " [23.00547494]\n",
      " [24.3109234 ]\n",
      " [24.66749765]] \n",
      "\n",
      "\n",
      " [[18.6]\n",
      " [14.7]\n",
      " [22.9]\n",
      " [24. ]\n",
      " [23.8]\n",
      " [30.1]\n",
      " [25.3]\n",
      " [26.4]\n",
      " [27.3]\n",
      " [ nan]]\n"
     ]
    }
   ],
   "source": [
    "sc = pd.read_pickle('player_stats/stephen_curry.pickle')\n",
    "sc[goal_col] = sc['PTS'].shift(-years_to_predict)\n",
    "sc_features,sc_future_pts = sc.iloc[:,:-1], sc.iloc[:,-1].values.reshape(-1,1)\n",
    "predictions = predictor.predict(sc_features).reshape(-1,1)\n",
    "print(predictions,'\\n\\n\\n', sc_future_pts)"
   ]
  },
  {
   "cell_type": "code",
   "execution_count": null,
   "metadata": {},
   "outputs": [],
   "source": []
  }
 ],
 "metadata": {
  "kernelspec": {
   "display_name": "Python 3",
   "language": "python",
   "name": "python3"
  },
  "language_info": {
   "codemirror_mode": {
    "name": "ipython",
    "version": 3
   },
   "file_extension": ".py",
   "mimetype": "text/x-python",
   "name": "python",
   "nbconvert_exporter": "python",
   "pygments_lexer": "ipython3",
   "version": "3.7.3"
  }
 },
 "nbformat": 4,
 "nbformat_minor": 2
}
